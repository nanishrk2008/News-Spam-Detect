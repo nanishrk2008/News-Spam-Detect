{
 "cells": [
  {
   "cell_type": "markdown",
   "metadata": {},
   "source": [
    "# Buckshot++: A Scalable, Noise-Tolerant Bagging approach to the Buckshot Algorithm"
   ]
  },
  {
   "cell_type": "markdown",
   "metadata": {},
   "source": [
    "Despite the k-means algorithm being one of the most important unsupervised learning methods today, the Achilles' heel of this algorithm is the need to determine beforehand the number of clusters. A common approach is: take some metric, evaluate at multiple values of K, and let some greedy search determine when to stop (typically elbow heuristic). This notebook shows a better way. I will introduce 3 improvements:   \n",
    "1. I show that some metrics are powerful, while others are too inconsistent to be useful\n",
    "2. A big problem with k-means is that every single point is clustered--but what we really want is the pattern and not the noise. I show a beautiful way to solve this problem--and much simpler than k-medoids and k-medians to boot. \n",
    "3. Running k-means multiple times to find the best K is expensive in computation time, and just doesn't scale. I show a surprisingly simple alternative that *does* scale. "
   ]
  },
  {
   "cell_type": "code",
   "execution_count": null,
   "metadata": {
    "collapsed": true
   },
   "outputs": [],
   "source": [
    "'''A Scalable, Noise-Tolerant Bagging approach to the Buckshot Algorithm.\n",
    "Reference to the original buckshot algorithm (https://pdfs.semanticscholar.org/1134/3448f8a817fa391e3a7897a95f975ad2873a.pdf)'''"
   ]
  },
  {
   "cell_type": "code",
   "execution_count": 1,
   "metadata": {
    "collapsed": true
   },
   "outputs": [],
   "source": [
    "from numpy.random import choice\n",
    "from pandas import read_csv, DataFrame\n",
    "from sklearn.cluster import KMeans\n",
    "from sklearn.metrics import adjusted_mutual_info_score\n",
    "import matplotlib.pyplot as plt\n",
    "from functools import reduce\n",
    "import os, sys\n",
    "sys.path.insert(0, 'C:/Users/jjung/Documents/GitHub/News-Spam-Detect/TxtClus/')\n",
    "# sys.path.insert(0, '/home/jz/proj/News-Spam-Detect/TxtClus')\n",
    "from baggedBuckshot import Clusterings"
   ]
  },
  {
   "cell_type": "code",
   "execution_count": 2,
   "metadata": {
    "collapsed": false
   },
   "outputs": [],
   "source": [
    "def plot_mult_samples(listOf_df, row_name):     \n",
    "    '''For each bootstrap iteration, plot metrics across K''' \n",
    "    for i in range(len(listOf_df)):\n",
    "        plt.plot(list(listOf_df[i].columns), list(listOf_df[i].loc[row_name,:]), c=\"green\")  \n",
    "    \n",
    "    # Use the reduce function to do elementwise average for several data frames:\n",
    "    avg_metrics = reduce(lambda df1, df2: df1.add(df2), listOf_df).div(len(listOf_df))        \n",
    "    plt.plot(list(avg_metrics.columns), list(avg_metrics.loc[row_name,:]), c=\"red\")    \n",
    "    plt.ylabel(row_name + ' score')   \n",
    "    plt.xlabel('no. of clusters')        \n",
    "    plt.show()            "
   ]
  },
  {
   "cell_type": "markdown",
   "metadata": {},
   "source": [
    "## Background\n",
    "The novel algorithm that I will explain here (hereinafter I will call Buckshot++) is motivated by the paper [Pedersen et al.](https://pdfs.semanticscholar.org/1134/3448f8a817fa391e3a7897a95f975ad2873a.pdf) The essence of the Buckshot algorithm outline in that paper is to find cluster centers by performing hierarchical clustering on a sample and then perform k-means by inputting those cluster centers. Table 1 below explains why the Buckshot algorithm takes this approach:"
   ]
  },
  {
   "cell_type": "code",
   "execution_count": 11,
   "metadata": {
    "collapsed": false
   },
   "outputs": [
    {
     "name": "stdout",
     "output_type": "stream",
     "text": [
      "Table 1\n"
     ]
    },
    {
     "data": {
      "text/html": [
       "<div>\n",
       "<table border=\"1\" class=\"dataframe\">\n",
       "  <thead>\n",
       "    <tr style=\"text-align: right;\">\n",
       "      <th></th>\n",
       "      <th>hierarchical</th>\n",
       "      <th>k-means</th>\n",
       "    </tr>\n",
       "  </thead>\n",
       "  <tbody>\n",
       "    <tr>\n",
       "      <th>Computational Complexity</th>\n",
       "      <td>O(N^2 * logN)</td>\n",
       "      <td>O(N * k * d * i)</td>\n",
       "    </tr>\n",
       "    <tr>\n",
       "      <th>Sources of Instability</th>\n",
       "      <td>outliers</td>\n",
       "      <td>random initial means; local minimum; outliers</td>\n",
       "    </tr>\n",
       "  </tbody>\n",
       "</table>\n",
       "</div>"
      ],
      "text/plain": [
       "                           hierarchical  \\\n",
       "Computational Complexity  O(N^2 * logN)   \n",
       "Sources of Instability         outliers   \n",
       "\n",
       "                                                                k-means  \n",
       "Computational Complexity                               O(N * k * d * i)  \n",
       "Sources of Instability    random initial means; local minimum; outliers  "
      ]
     },
     "execution_count": 11,
     "metadata": {},
     "output_type": "execute_result"
    }
   ],
   "source": [
    "print('Table 1')\n",
    "tbl = DataFrame({'k-means': ['O(N * k * d * i)', 'random initial means; local minimum; outliers'],\n",
    "                 'hierarchical': ['O(N^2 * logN)', 'outliers']}\n",
    "                , index=['Computational Complexity', 'Sources of Instability'])\n",
    "tbl"
   ]
  },
  {
   "cell_type": "markdown",
   "metadata": {},
   "source": [
    "The shockingly high time complexity of hierarchical is why the Buckshot algorithm performs hierarchical only on a sample. Let's look at what Buckshot++ is and how it simultaneously tackles scalability and stability issues.  "
   ]
  },
  {
   "cell_type": "markdown",
   "metadata": {},
   "source": [
    "## The Buckshot++ Algorithm"
   ]
  },
  {
   "cell_type": "markdown",
   "metadata": {},
   "source": [
    "1. Take B bootstrap samples where each sample is of size 1/F.  \n",
    "2. For each K from 2 to F do:  \n",
    "        2a. Pass parameter K into kmeans computation.  \n",
    "        2b. Compute the metric M.\n",
    "3. Compute the centroid of all metrics vectors.  \n",
    "4. Output: argmax of the centroid vector.        "
   ]
  },
  {
   "cell_type": "markdown",
   "metadata": {},
   "source": [
    "## Implementation & Empirical Discoveries\n",
    "Having given the background and the concept of Buckshot++, the following sections are a walkthrough of the way I implemented the algorithm. In the cell below, I import the [Kaggle News Aggregator Dataset](https://www.kaggle.com/uciml/news-aggregator-dataset) that I will use to illustrate my algorithm. In this data, there's a field that contains news headlines and another field that holds an ID indicating which story a headline belongs to. "
   ]
  },
  {
   "cell_type": "code",
   "execution_count": 3,
   "metadata": {
    "collapsed": false
   },
   "outputs": [],
   "source": [
    "if __name__ == \"__main__\":\n",
    "    # Pass in settings to instantiate a Clusterings object called vecSpaceMod1:\n",
    "    vecSpaceMod = Clusterings({'file_loc': sys.path[0] + '/Input/newsSample.csv',\n",
    "                               'tf_dampen': True,\n",
    "                               'common_word_pct': 1,\n",
    "                               'rare_word_pct': 1,\n",
    "                               'dim_redu': False})\n",
    "    news_df = vecSpaceMod.get_file() # Read CSV input to data frame."
   ]
  },
  {
   "cell_type": "code",
   "execution_count": 4,
   "metadata": {
    "collapsed": false
   },
   "outputs": [],
   "source": [
    "    # Repeatedly run kmeans on resamples, compute the silhouette and calinski metrics for each K that I plug in.  \n",
    "    metrics_byK = vecSpaceMod.buckshot(news_df)        "
   ]
  },
  {
   "cell_type": "markdown",
   "metadata": {},
   "source": [
    "## Bagging *does* make sense here!\n",
    "Each green curve is generated from a bootstrap sample, and the red curve is their average. Remember the sources of instability for k-means listed in Table 1. Within that list, the concept of outlier has a somewhat different meaning in the context of clustering. In supervised learning, an outlier is a rare observation that happens to be far from other observations. In clustering, a far away observation is its own well-separated cluster. So my interpretation is that \"rare\" is the operative word here and that outliers are singleton clusters that exert undue influence on the formation of other clusters. Look at how [bagging](https://en.wikipedia.org/wiki/Bootstrap_aggregating) imparted a more stable estimate of the relationship between the number of clusters and the silhouette score in the graph below."
   ]
  },
  {
   "cell_type": "code",
   "execution_count": 5,
   "metadata": {
    "collapsed": false
   },
   "outputs": [
    {
     "data": {
      "image/png": "[encoded data removed]",
      "text/plain": [
       "<matplotlib.figure.Figure at 0x7368fd0>"
      ]
     },
     "metadata": {},
     "output_type": "display_data"
    }
   ],
   "source": [
    "    plot_mult_samples(metrics_byK, 'silhouette')"
   ]
  },
  {
   "cell_type": "markdown",
   "metadata": {},
   "source": [
    "## Useful and not-so-useful internal clustering metrics currently out there.\n",
    "The two internal clustering metrics implemented in scikit-learn are: the Silhouette Coefficient and the Calinski-Harabasz criterion. Comparing the Silhouette plotted above with the Calinski plotted below, it's clear that Silhouette is clearly better."
   ]
  },
  {
   "cell_type": "code",
   "execution_count": 6,
   "metadata": {
    "collapsed": false
   },
   "outputs": [
    {
     "data": {
      "image/png": "[encoded data removed]",
      "text/plain": [
       "<matplotlib.figure.Figure at 0x7406eb8>"
      ]
     },
     "metadata": {},
     "output_type": "display_data"
    }
   ],
   "source": [
    "    plot_mult_samples(metrics_byK, 'calinski')"
   ]
  },
  {
   "cell_type": "code",
   "execution_count": 12,
   "metadata": {
    "collapsed": true
   },
   "outputs": [],
   "source": [
    "    X = vecSpaceMod.term_weight_matr(news_df.TITLE)\n",
    "    kmeans_fit = KMeans(21).fit(X)"
   ]
  },
  {
   "cell_type": "markdown",
   "metadata": {},
   "source": [
    "## Are the quality of the clusters good?\n",
    "Taking a look at the documents and their corresponding \"predictedCluster\", the results certainly do impress!"
   ]
  },
  {
   "cell_type": "code",
   "execution_count": 13,
   "metadata": {
    "collapsed": false
   },
   "outputs": [
    {
     "data": {
      "text/html": [
       "<div>\n",
       "<table border=\"1\" class=\"dataframe\">\n",
       "  <thead>\n",
       "    <tr style=\"text-align: right;\">\n",
       "      <th></th>\n",
       "      <th>document</th>\n",
       "      <th>predictedCluster</th>\n",
       "    </tr>\n",
       "  </thead>\n",
       "  <tbody>\n",
       "    <tr>\n",
       "      <th>48</th>\n",
       "      <td>Microsoft wants Windows XP dead and has announ...</td>\n",
       "      <td>0</td>\n",
       "    </tr>\n",
       "    <tr>\n",
       "      <th>50</th>\n",
       "      <td>Zebra Technologies to Acquire Enterprise Busin...</td>\n",
       "      <td>0</td>\n",
       "    </tr>\n",
       "    <tr>\n",
       "      <th>25</th>\n",
       "      <td>SAC Capital Starts Anew as Point72</td>\n",
       "      <td>0</td>\n",
       "    </tr>\n",
       "    <tr>\n",
       "      <th>23</th>\n",
       "      <td>Fine Tuning: Good Wife just gets better</td>\n",
       "      <td>0</td>\n",
       "    </tr>\n",
       "    <tr>\n",
       "      <th>80</th>\n",
       "      <td>Nutrition in Crops Are Cut down Drastically by...</td>\n",
       "      <td>0</td>\n",
       "    </tr>\n",
       "    <tr>\n",
       "      <th>73</th>\n",
       "      <td>Electricity out as Millstone shifts to diesel</td>\n",
       "      <td>0</td>\n",
       "    </tr>\n",
       "    <tr>\n",
       "      <th>74</th>\n",
       "      <td>McAuliffe puts focus on women's health</td>\n",
       "      <td>0</td>\n",
       "    </tr>\n",
       "    <tr>\n",
       "      <th>46</th>\n",
       "      <td>'Mad Men': Season 7 Premiere Guide (Video)</td>\n",
       "      <td>1</td>\n",
       "    </tr>\n",
       "    <tr>\n",
       "      <th>37</th>\n",
       "      <td>TV Review: Mad Men Season 7</td>\n",
       "      <td>1</td>\n",
       "    </tr>\n",
       "    <tr>\n",
       "      <th>53</th>\n",
       "      <td>'Mad Men' Season 7 Spoilers: Everything We Kno...</td>\n",
       "      <td>1</td>\n",
       "    </tr>\n",
       "    <tr>\n",
       "      <th>72</th>\n",
       "      <td>Rich Sommer from AMC's 'Mad Men' Season Premiere</td>\n",
       "      <td>1</td>\n",
       "    </tr>\n",
       "    <tr>\n",
       "      <th>77</th>\n",
       "      <td>Why Fargo Works So Well as a TV Show</td>\n",
       "      <td>1</td>\n",
       "    </tr>\n",
       "    <tr>\n",
       "      <th>70</th>\n",
       "      <td>10 Things You Never Knew About 'Mad Men'!</td>\n",
       "      <td>1</td>\n",
       "    </tr>\n",
       "    <tr>\n",
       "      <th>3</th>\n",
       "      <td>'Mad Men' mixology</td>\n",
       "      <td>1</td>\n",
       "    </tr>\n",
       "    <tr>\n",
       "      <th>9</th>\n",
       "      <td>Mad Men - the (Blaxploitation) Movie</td>\n",
       "      <td>1</td>\n",
       "    </tr>\n",
       "    <tr>\n",
       "      <th>5</th>\n",
       "      <td>'Mad Men': 7 things to know for Season 7</td>\n",
       "      <td>1</td>\n",
       "    </tr>\n",
       "    <tr>\n",
       "      <th>84</th>\n",
       "      <td>'Mad Men' takes off on its final flight</td>\n",
       "      <td>1</td>\n",
       "    </tr>\n",
       "    <tr>\n",
       "      <th>66</th>\n",
       "      <td>UPDATE 3-Twitter chief operating officer resig...</td>\n",
       "      <td>2</td>\n",
       "    </tr>\n",
       "    <tr>\n",
       "      <th>86</th>\n",
       "      <td>Twitter chief operating officer Ali Rowghani h...</td>\n",
       "      <td>2</td>\n",
       "    </tr>\n",
       "    <tr>\n",
       "      <th>20</th>\n",
       "      <td>Twitter COO resigns as growth lags</td>\n",
       "      <td>2</td>\n",
       "    </tr>\n",
       "    <tr>\n",
       "      <th>69</th>\n",
       "      <td>Twitter chief operating officer resigns as use...</td>\n",
       "      <td>2</td>\n",
       "    </tr>\n",
       "    <tr>\n",
       "      <th>45</th>\n",
       "      <td>Sony Xperia Z2 Encased In A Block Of Ice, Cont...</td>\n",
       "      <td>3</td>\n",
       "    </tr>\n",
       "    <tr>\n",
       "      <th>78</th>\n",
       "      <td>If you hate the word 'selfie' look away now, t...</td>\n",
       "      <td>3</td>\n",
       "    </tr>\n",
       "    <tr>\n",
       "      <th>91</th>\n",
       "      <td>Sony Xperia C3 launches as \"world's best selfi...</td>\n",
       "      <td>3</td>\n",
       "    </tr>\n",
       "    <tr>\n",
       "      <th>7</th>\n",
       "      <td>Sony makes duckfacing official with Xperia C3,...</td>\n",
       "      <td>3</td>\n",
       "    </tr>\n",
       "    <tr>\n",
       "      <th>90</th>\n",
       "      <td>Sony Xperia Z4 Concept Emerges as Fan Imagines...</td>\n",
       "      <td>3</td>\n",
       "    </tr>\n",
       "    <tr>\n",
       "      <th>30</th>\n",
       "      <td>Leaked: Images Of Sony's Xperia C3 'Selfie Phone'</td>\n",
       "      <td>3</td>\n",
       "    </tr>\n",
       "    <tr>\n",
       "      <th>35</th>\n",
       "      <td>Second Twitter exec resigns with goodbye tweet...</td>\n",
       "      <td>4</td>\n",
       "    </tr>\n",
       "    <tr>\n",
       "      <th>49</th>\n",
       "      <td>Twitter COO Ali Rowghani Just Announced Via Tw...</td>\n",
       "      <td>4</td>\n",
       "    </tr>\n",
       "    <tr>\n",
       "      <th>57</th>\n",
       "      <td>'Goodbye Twitter' COO Ali Rowghani, says bye t...</td>\n",
       "      <td>4</td>\n",
       "    </tr>\n",
       "    <tr>\n",
       "      <th>...</th>\n",
       "      <td>...</td>\n",
       "      <td>...</td>\n",
       "    </tr>\n",
       "    <tr>\n",
       "      <th>18</th>\n",
       "      <td>Gov. McAuliffe Makes Health Announcements</td>\n",
       "      <td>12</td>\n",
       "    </tr>\n",
       "    <tr>\n",
       "      <th>1</th>\n",
       "      <td>Here's How Climate Change Will Make Food Less ...</td>\n",
       "      <td>12</td>\n",
       "    </tr>\n",
       "    <tr>\n",
       "      <th>81</th>\n",
       "      <td>Rising CO2 levels also make our food less nutr...</td>\n",
       "      <td>12</td>\n",
       "    </tr>\n",
       "    <tr>\n",
       "      <th>68</th>\n",
       "      <td>With carbon dioxide levels up, nutrients in cr...</td>\n",
       "      <td>12</td>\n",
       "    </tr>\n",
       "    <tr>\n",
       "      <th>39</th>\n",
       "      <td>Why almost everything you've been told about u...</td>\n",
       "      <td>12</td>\n",
       "    </tr>\n",
       "    <tr>\n",
       "      <th>79</th>\n",
       "      <td>Despite Safety Issues, GM's Sales Still Increa...</td>\n",
       "      <td>13</td>\n",
       "    </tr>\n",
       "    <tr>\n",
       "      <th>40</th>\n",
       "      <td>GM June Sales Up 9 Percent, Best June Since 2007</td>\n",
       "      <td>13</td>\n",
       "    </tr>\n",
       "    <tr>\n",
       "      <th>87</th>\n",
       "      <td>Ford sales fall, GM barely even; Jeep powers C...</td>\n",
       "      <td>13</td>\n",
       "    </tr>\n",
       "    <tr>\n",
       "      <th>17</th>\n",
       "      <td>Chrysler Group LLC reports June 2014 US sales ...</td>\n",
       "      <td>13</td>\n",
       "    </tr>\n",
       "    <tr>\n",
       "      <th>56</th>\n",
       "      <td>Before 'Fargo's' season finale, a sequel (or p...</td>\n",
       "      <td>14</td>\n",
       "    </tr>\n",
       "    <tr>\n",
       "      <th>65</th>\n",
       "      <td>'Fargo' Season 1 Spoilers: Episode 10 Synopsis...</td>\n",
       "      <td>14</td>\n",
       "    </tr>\n",
       "    <tr>\n",
       "      <th>63</th>\n",
       "      <td>Fargo (FX) Season Finale 2014 âMorton's Forkâ</td>\n",
       "      <td>14</td>\n",
       "    </tr>\n",
       "    <tr>\n",
       "      <th>83</th>\n",
       "      <td>US plants prepare for long-term nuclear waste ...</td>\n",
       "      <td>15</td>\n",
       "    </tr>\n",
       "    <tr>\n",
       "      <th>32</th>\n",
       "      <td>US plants prepare long-term nuclear waste stor...</td>\n",
       "      <td>15</td>\n",
       "    </tr>\n",
       "    <tr>\n",
       "      <th>22</th>\n",
       "      <td>Nuclear Plant Operators Deal With Radioactive ...</td>\n",
       "      <td>15</td>\n",
       "    </tr>\n",
       "    <tr>\n",
       "      <th>6</th>\n",
       "      <td>Power restored to nuclear plant in Waterford, ...</td>\n",
       "      <td>15</td>\n",
       "    </tr>\n",
       "    <tr>\n",
       "      <th>59</th>\n",
       "      <td>Twitter's head of media Chloe Sladden steps do...</td>\n",
       "      <td>16</td>\n",
       "    </tr>\n",
       "    <tr>\n",
       "      <th>12</th>\n",
       "      <td>Twitter Exec Exodus Continues with Media Chief...</td>\n",
       "      <td>16</td>\n",
       "    </tr>\n",
       "    <tr>\n",
       "      <th>28</th>\n",
       "      <td>Twitter's revolving door: media head Chloe Sla...</td>\n",
       "      <td>16</td>\n",
       "    </tr>\n",
       "    <tr>\n",
       "      <th>26</th>\n",
       "      <td>Virginia's Governor Challenges Abortion Clinic...</td>\n",
       "      <td>17</td>\n",
       "    </tr>\n",
       "    <tr>\n",
       "      <th>82</th>\n",
       "      <td>The Least Obese City in the Country</td>\n",
       "      <td>18</td>\n",
       "    </tr>\n",
       "    <tr>\n",
       "      <th>21</th>\n",
       "      <td>Boulder's Wealth May Be A Factor For Lowest Ob...</td>\n",
       "      <td>18</td>\n",
       "    </tr>\n",
       "    <tr>\n",
       "      <th>47</th>\n",
       "      <td>Twitter COO quits, signalling management shake-up</td>\n",
       "      <td>19</td>\n",
       "    </tr>\n",
       "    <tr>\n",
       "      <th>61</th>\n",
       "      <td>Twitter COO Rowghani resigns amid lacklustre g...</td>\n",
       "      <td>19</td>\n",
       "    </tr>\n",
       "    <tr>\n",
       "      <th>52</th>\n",
       "      <td>Twitter Loses a Powerful Executive</td>\n",
       "      <td>19</td>\n",
       "    </tr>\n",
       "    <tr>\n",
       "      <th>71</th>\n",
       "      <td>Twitter Executive Quits Amid Stalling Growth</td>\n",
       "      <td>19</td>\n",
       "    </tr>\n",
       "    <tr>\n",
       "      <th>31</th>\n",
       "      <td>Second Twitter executive quits hours after Row...</td>\n",
       "      <td>19</td>\n",
       "    </tr>\n",
       "    <tr>\n",
       "      <th>4</th>\n",
       "      <td>'Mad Men' end in sight for Weiner</td>\n",
       "      <td>20</td>\n",
       "    </tr>\n",
       "    <tr>\n",
       "      <th>36</th>\n",
       "      <td>Weiner reflects on the beginning of the end of...</td>\n",
       "      <td>20</td>\n",
       "    </tr>\n",
       "    <tr>\n",
       "      <th>0</th>\n",
       "      <td>'Mad Men' Preview: Buckle Up For 7 'Dense' Epi...</td>\n",
       "      <td>20</td>\n",
       "    </tr>\n",
       "  </tbody>\n",
       "</table>\n",
       "<p>93 rows × 2 columns</p>\n",
       "</div>"
      ],
      "text/plain": [
       "                                             document  predictedCluster\n",
       "48  Microsoft wants Windows XP dead and has announ...                 0\n",
       "50  Zebra Technologies to Acquire Enterprise Busin...                 0\n",
       "25                 SAC Capital Starts Anew as Point72                 0\n",
       "23            Fine Tuning: Good Wife just gets better                 0\n",
       "80  Nutrition in Crops Are Cut down Drastically by...                 0\n",
       "73      Electricity out as Millstone shifts to diesel                 0\n",
       "74             McAuliffe puts focus on women's health                 0\n",
       "46         'Mad Men': Season 7 Premiere Guide (Video)                 1\n",
       "37                        TV Review: Mad Men Season 7                 1\n",
       "53  'Mad Men' Season 7 Spoilers: Everything We Kno...                 1\n",
       "72   Rich Sommer from AMC's 'Mad Men' Season Premiere                 1\n",
       "77               Why Fargo Works So Well as a TV Show                 1\n",
       "70          10 Things You Never Knew About 'Mad Men'!                 1\n",
       "3                                  'Mad Men' mixology                 1\n",
       "9                Mad Men - the (Blaxploitation) Movie                 1\n",
       "5            'Mad Men': 7 things to know for Season 7                 1\n",
       "84            'Mad Men' takes off on its final flight                 1\n",
       "66  UPDATE 3-Twitter chief operating officer resig...                 2\n",
       "86  Twitter chief operating officer Ali Rowghani h...                 2\n",
       "20                 Twitter COO resigns as growth lags                 2\n",
       "69  Twitter chief operating officer resigns as use...                 2\n",
       "45  Sony Xperia Z2 Encased In A Block Of Ice, Cont...                 3\n",
       "78  If you hate the word 'selfie' look away now, t...                 3\n",
       "91  Sony Xperia C3 launches as \"world's best selfi...                 3\n",
       "7   Sony makes duckfacing official with Xperia C3,...                 3\n",
       "90  Sony Xperia Z4 Concept Emerges as Fan Imagines...                 3\n",
       "30  Leaked: Images Of Sony's Xperia C3 'Selfie Phone'                 3\n",
       "35  Second Twitter exec resigns with goodbye tweet...                 4\n",
       "49  Twitter COO Ali Rowghani Just Announced Via Tw...                 4\n",
       "57  'Goodbye Twitter' COO Ali Rowghani, says bye t...                 4\n",
       "..                                                ...               ...\n",
       "18          Gov. McAuliffe Makes Health Announcements                12\n",
       "1   Here's How Climate Change Will Make Food Less ...                12\n",
       "81  Rising CO2 levels also make our food less nutr...                12\n",
       "68  With carbon dioxide levels up, nutrients in cr...                12\n",
       "39  Why almost everything you've been told about u...                12\n",
       "79  Despite Safety Issues, GM's Sales Still Increa...                13\n",
       "40   GM June Sales Up 9 Percent, Best June Since 2007                13\n",
       "87  Ford sales fall, GM barely even; Jeep powers C...                13\n",
       "17  Chrysler Group LLC reports June 2014 US sales ...                13\n",
       "56  Before 'Fargo's' season finale, a sequel (or p...                14\n",
       "65  'Fargo' Season 1 Spoilers: Episode 10 Synopsis...                14\n",
       "63  Fargo (FX) Season Finale 2014 âMorton's Forkâ                14\n",
       "83  US plants prepare for long-term nuclear waste ...                15\n",
       "32  US plants prepare long-term nuclear waste stor...                15\n",
       "22  Nuclear Plant Operators Deal With Radioactive ...                15\n",
       "6   Power restored to nuclear plant in Waterford, ...                15\n",
       "59  Twitter's head of media Chloe Sladden steps do...                16\n",
       "12  Twitter Exec Exodus Continues with Media Chief...                16\n",
       "28  Twitter's revolving door: media head Chloe Sla...                16\n",
       "26  Virginia's Governor Challenges Abortion Clinic...                17\n",
       "82                The Least Obese City in the Country                18\n",
       "21  Boulder's Wealth May Be A Factor For Lowest Ob...                18\n",
       "47  Twitter COO quits, signalling management shake-up                19\n",
       "61  Twitter COO Rowghani resigns amid lacklustre g...                19\n",
       "52                 Twitter Loses a Powerful Executive                19\n",
       "71       Twitter Executive Quits Amid Stalling Growth                19\n",
       "31  Second Twitter executive quits hours after Row...                19\n",
       "4                   'Mad Men' end in sight for Weiner                20\n",
       "36  Weiner reflects on the beginning of the end of...                20\n",
       "0   'Mad Men' Preview: Buckle Up For 7 'Dense' Epi...                20\n",
       "\n",
       "[93 rows x 2 columns]"
      ]
     },
     "execution_count": 13,
     "metadata": {},
     "output_type": "execute_result"
    }
   ],
   "source": [
    "    cluster_results = DataFrame({'predictedCluster': kmeans_fit.labels_,\n",
    "                                 'document': news_df.TITLE})\n",
    "    cluster_results.sort_values(by='predictedCluster', inplace=True)\n",
    "    cluster_results"
   ]
  },
  {
   "cell_type": "markdown",
   "metadata": {},
   "source": [
    "## Internal or External Clustering Metrics?\n",
    "With the ground truth labels, we can evaluate Mutual Information, which is the most commonly used external metric. Looking at 0.63 Mutual Information compared with about 0.35 Silhouette, the relationship between the metrics is fairly consistent with other studies."
   ]
  },
  {
   "cell_type": "code",
   "execution_count": 15,
   "metadata": {
    "collapsed": false
   },
   "outputs": [
    {
     "name": "stdout",
     "output_type": "stream",
     "text": [
      "0.638939858796\n"
     ]
    }
   ],
   "source": [
    "    mutual_info = adjusted_mutual_info_score(labels_true=news_df.STORY, labels_pred=kmeans_fit.labels_) \n",
    "    print(mutual_info)"
   ]
  },
  {
   "cell_type": "markdown",
   "metadata": {},
   "source": [
    "## Buckshot++ Scales Better Than Buckshot.\n",
    "The fact is that hierarchical clustering has a much higher order of time complexity than k-means. This means that, for sizable inputs, running k-means multiple times is still faster than running hierarchical clustering just once. The Buckshot algorithm runs hierarchical just once on a small sample in order to initialize cluster centers for k-means. Since O(N^2 * logN) grows really fast, the sample must be really small to make it work computationally. But the chief critique of Buckshot is "
   ]
  }
 ],
 "metadata": {
  "kernelspec": {
   "display_name": "Python 3",
   "language": "python",
   "name": "python3"
  },
  "language_info": {
   "codemirror_mode": {
    "name": "ipython",
    "version": 3
   },
   "file_extension": ".py",
   "mimetype": "text/x-python",
   "name": "python",
   "nbconvert_exporter": "python",
   "pygments_lexer": "ipython3",
   "version": "3.5.2"
  }
 },
 "nbformat": 4,
 "nbformat_minor": 0
}

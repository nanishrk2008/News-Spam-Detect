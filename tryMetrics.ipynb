{
 "cells": [
  {
   "cell_type": "code",
   "execution_count": 1,
   "metadata": {
    "collapsed": false
   },
   "outputs": [],
   "source": [
    "from numpy.random import choice\n",
    "from pandas import read_csv, DataFrame\n",
    "from sklearn.cluster import KMeans\n",
    "import os, sys\n",
    "# sys.path.insert(0, 'C:/Users/jjung/Documents/GitHub//bkmark_organizer/test_parser_stemmer/prototype/TxtClus/')\n",
    "sys.path.insert(0, '/home/jz/proj/News-Spam-Detect/TxtClus')\n",
    "from nlp.termWeighting import doc_term_matrix\n",
    "from EstimateK.seqFit import sensitiv"
   ]
  },
  {
   "cell_type": "code",
   "execution_count": 2,
   "metadata": {
    "collapsed": false
   },
   "outputs": [],
   "source": [
    "class Clusterings(object):\n",
    "    '''Define a class that encapsulates textual processing tools.'''\n",
    "    def __init__(self, param_dict):\n",
    "        self.__param_dict = param_dict        \n",
    "    \n",
    "    def get_file(self):\n",
    "        '''read csv input into a pandas data frame'''\n",
    "        return read_csv(self.__param_dict['file_loc'], encoding = 'latin1')\n",
    "\n",
    "    def term_weight_matr(self, snippetsArr):\n",
    "        '''compute a document-term matrix based on a collection of text documents'''\n",
    "        return doc_term_matrix(snippetsArr, self.__param_dict)\n",
    "    \n",
    "    def resample(self, df, NUM_BOOTSTRAPS = 3):\n",
    "        bootstraps = [None] * NUM_BOOTSTRAPS\n",
    "        for bootI in range(NUM_BOOTSTRAPS):  \n",
    "            bootstraps[bootI] = df.sample(frac=1/NUM_BOOTSTRAPS, replace=True)\n",
    "        return bootstraps"
   ]
  },
  {
   "cell_type": "code",
   "execution_count": 3,
   "metadata": {
    "collapsed": false
   },
   "outputs": [],
   "source": [
    "if __name__ == \"__main__\":\n",
    "    # Pass in settings to instantiate a Clusterings object called vecSpaceMod1:\n",
    "    vecSpaceMod = Clusterings({'file_loc': sys.path[0] + '/Input/newsSample.csv',\n",
    "                               'tf_dampen': True,\n",
    "                               'common_word_pct': 1,\n",
    "                               'rare_word_pct': 1,\n",
    "                               'dim_redu': False})\n",
    "    df = vecSpaceMod.get_file() # Load csv file into data frame."
   ]
  },
  {
   "cell_type": "code",
   "execution_count": 4,
   "metadata": {
    "collapsed": false
   },
   "outputs": [],
   "source": [
    "    # Take 3 bootstrap sub-samples for faster, bagged kmeans fits:\n",
    "    bstraps = vecSpaceMod.resample(df)\n",
    "    # Compute the Term Frequency Inverse Document Frequency matrix based on news headlines:    \n",
    "    design_matrices = [vecSpaceMod.term_weight_matr(bstrap.TITLE) for bstrap in bstraps]"
   ]
  },
  {
   "cell_type": "code",
   "execution_count": 8,
   "metadata": {
    "collapsed": false
   },
   "outputs": [
    {
     "data": {
      "text/html": [
       "<div>\n",
       "<table border=\"1\" class=\"dataframe\">\n",
       "  <thead>\n",
       "    <tr style=\"text-align: right;\">\n",
       "      <th></th>\n",
       "      <th>2</th>\n",
       "      <th>3</th>\n",
       "      <th>4</th>\n",
       "      <th>5</th>\n",
       "      <th>6</th>\n",
       "      <th>7</th>\n",
       "      <th>8</th>\n",
       "      <th>9</th>\n",
       "      <th>10</th>\n",
       "      <th>11</th>\n",
       "      <th>...</th>\n",
       "      <th>21</th>\n",
       "      <th>22</th>\n",
       "      <th>23</th>\n",
       "      <th>24</th>\n",
       "      <th>25</th>\n",
       "      <th>26</th>\n",
       "      <th>27</th>\n",
       "      <th>28</th>\n",
       "      <th>29</th>\n",
       "      <th>30</th>\n",
       "    </tr>\n",
       "  </thead>\n",
       "  <tbody>\n",
       "    <tr>\n",
       "      <th>0</th>\n",
       "      <td>0.095004</td>\n",
       "      <td>0.158038</td>\n",
       "      <td>0.171808</td>\n",
       "      <td>0.216971</td>\n",
       "      <td>0.206889</td>\n",
       "      <td>0.238394</td>\n",
       "      <td>0.277985</td>\n",
       "      <td>0.292249</td>\n",
       "      <td>0.281520</td>\n",
       "      <td>0.342076</td>\n",
       "      <td>...</td>\n",
       "      <td>0.317505</td>\n",
       "      <td>0.315022</td>\n",
       "      <td>0.317563</td>\n",
       "      <td>0.317039</td>\n",
       "      <td>0.305056</td>\n",
       "      <td>0.296807</td>\n",
       "      <td>0.258065</td>\n",
       "      <td>0.258065</td>\n",
       "      <td>0.258065</td>\n",
       "      <td>0.258065</td>\n",
       "    </tr>\n",
       "    <tr>\n",
       "      <th>1</th>\n",
       "      <td>3.089662</td>\n",
       "      <td>2.704130</td>\n",
       "      <td>2.520869</td>\n",
       "      <td>2.507684</td>\n",
       "      <td>2.357642</td>\n",
       "      <td>2.329167</td>\n",
       "      <td>2.404771</td>\n",
       "      <td>2.335299</td>\n",
       "      <td>2.284718</td>\n",
       "      <td>2.414004</td>\n",
       "      <td>...</td>\n",
       "      <td>4.023399</td>\n",
       "      <td>4.578704</td>\n",
       "      <td>5.264197</td>\n",
       "      <td>6.363144</td>\n",
       "      <td>9.017937</td>\n",
       "      <td>17.258041</td>\n",
       "      <td>1.000000</td>\n",
       "      <td>1.000000</td>\n",
       "      <td>1.000000</td>\n",
       "      <td>1.000000</td>\n",
       "    </tr>\n",
       "  </tbody>\n",
       "</table>\n",
       "<p>2 rows × 29 columns</p>\n",
       "</div>"
      ],
      "text/plain": [
       "         2         3         4         5         6         7         8   \\\n",
       "0  0.095004  0.158038  0.171808  0.216971  0.206889  0.238394  0.277985   \n",
       "1  3.089662  2.704130  2.520869  2.507684  2.357642  2.329167  2.404771   \n",
       "\n",
       "         9         10        11    ...           21        22        23  \\\n",
       "0  0.292249  0.281520  0.342076    ...     0.317505  0.315022  0.317563   \n",
       "1  2.335299  2.284718  2.414004    ...     4.023399  4.578704  5.264197   \n",
       "\n",
       "         24        25         26        27        28        29        30  \n",
       "0  0.317039  0.305056   0.296807  0.258065  0.258065  0.258065  0.258065  \n",
       "1  6.363144  9.017937  17.258041  1.000000  1.000000  1.000000  1.000000  \n",
       "\n",
       "[2 rows x 29 columns]"
      ]
     },
     "execution_count": 8,
     "metadata": {},
     "output_type": "execute_result"
    }
   ],
   "source": [
    "    [sensitiv(matrix) for matrix in design_matrices] "
   ]
  },
  {
   "cell_type": "code",
   "execution_count": null,
   "metadata": {
    "collapsed": true
   },
   "outputs": [],
   "source": [
    "    df = DataFrame({'predictedCluster': KMeans(17).fit(X1).labels_, \n",
    "                    'document': term_weight_obj['samp']}).sort_values(by='predictedCluster')\n",
    "    \n",
    "    print(df)"
   ]
  }
 ],
 "metadata": {
  "kernelspec": {
   "display_name": "Python 3",
   "language": "python",
   "name": "python3"
  },
  "language_info": {
   "codemirror_mode": {
    "name": "ipython",
    "version": 3
   },
   "file_extension": ".py",
   "mimetype": "text/x-python",
   "name": "python",
   "nbconvert_exporter": "python",
   "pygments_lexer": "ipython3",
   "version": "3.6.0"
  }
 },
 "nbformat": 4,
 "nbformat_minor": 0
}

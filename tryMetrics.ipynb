{
 "cells": [
  {
   "cell_type": "code",
   "execution_count": 22,
   "metadata": {
    "collapsed": false
   },
   "outputs": [],
   "source": [
    "from numpy.random import choice\n",
    "from pandas import read_csv, DataFrame\n",
    "from sklearn.cluster import KMeans\n",
    "import os, sys\n",
    "# sys.path.insert(0, 'C:/Users/jjung/Documents/GitHub//bkmark_organizer/test_parser_stemmer/prototype/TxtClus/')\n",
    "sys.path.insert(0, '/home/jz/proj/News-Spam-Detect/TxtClus')\n",
    "from nlp.termWeighting import doc_term_matrix\n",
    "from EstimateK.seqFit import sensitiv"
   ]
  },
  {
   "cell_type": "code",
   "execution_count": 13,
   "metadata": {
    "collapsed": false
   },
   "outputs": [],
   "source": [
    "class Clusterings(object):\n",
    "    '''Define a class that encapsulates textual processing tools.'''\n",
    "    def __init__(self, param_dict):\n",
    "        self.__param_dict = param_dict        \n",
    "    \n",
    "    def get_file(self):\n",
    "        '''read csv input into a pandas data frame'''\n",
    "        return read_csv(self.__param_dict['file_loc'], encoding = 'latin1')\n",
    "\n",
    "    def term_weight_matr(self, snippetsArr):\n",
    "        '''compute a document-term matrix based on a collection of text documents'''\n",
    "        return doc_term_matrix(snippetsArr, self.__param_dict)\n",
    "    \n",
    "    def resample(self, df, NUM_BOOTSTRAPS = 3):\n",
    "        bootstraps = [None] * NUM_BOOTSTRAPS\n",
    "        for bootI in range(NUM_BOOTSTRAPS):  \n",
    "            bootstraps[bootI] = df.sample(frac=1/NUM_BOOTSTRAPS, replace=True)\n",
    "        return bootstraps"
   ]
  },
  {
   "cell_type": "code",
   "execution_count": 14,
   "metadata": {
    "collapsed": false
   },
   "outputs": [],
   "source": [
    "if __name__ == \"__main__\":\n",
    "    # Pass in settings to instantiate a Clusterings object called vecSpaceMod1:\n",
    "    vecSpaceMod = Clusterings({'file_loc': sys.path[0] + '/Input/newsSample.csv',\n",
    "                               'tf_dampen': True,\n",
    "                               'common_word_pct': 1,\n",
    "                               'rare_word_pct': 1,\n",
    "                               'dim_redu': False})\n",
    "    df = vecSpaceMod.get_file() # Load csv file into data frame."
   ]
  },
  {
   "cell_type": "code",
   "execution_count": 15,
   "metadata": {
    "collapsed": false
   },
   "outputs": [],
   "source": [
    "    # Take 3 bootstrap sub-samples for faster, bagged kmeans fits:\n",
    "    bstraps = vecSpaceMod.resample(df)\n",
    "    # Compute the Term Frequency Inverse Document Frequency matrix based on news headlines:    \n",
    "    X = [vecSpaceMod.term_weight_matr(bstrap.TITLE) for bstrap in bstraps]\n",
    "        \n",
    "            \n",
    "#     X1 = vecSpaceMod1.term_weight_matr(samp1.TITLE).toarray()"
   ]
  },
  {
   "cell_type": "code",
   "execution_count": 24,
   "metadata": {
    "collapsed": false
   },
   "outputs": [
    {
     "data": {
      "image/png": "[encoded data removed]",
      "text/plain": [
       "<matplotlib.figure.Figure at 0x7fafd3905400>"
      ]
     },
     "metadata": {},
     "output_type": "display_data"
    }
   ],
   "source": [
    "    sensitiv(X[0].toarray())    "
   ]
  },
  {
   "cell_type": "code",
   "execution_count": null,
   "metadata": {
    "collapsed": true
   },
   "outputs": [],
   "source": [
    "    df = DataFrame({'predictedCluster': KMeans(17).fit(X1).labels_, \n",
    "                    'document': term_weight_obj['samp']}).sort_values(by='predictedCluster')\n",
    "    \n",
    "    print(df)"
   ]
  }
 ],
 "metadata": {
  "kernelspec": {
   "display_name": "Python 3",
   "language": "python",
   "name": "python3"
  },
  "language_info": {
   "codemirror_mode": {
    "name": "ipython",
    "version": 3
   },
   "file_extension": ".py",
   "mimetype": "text/x-python",
   "name": "python",
   "nbconvert_exporter": "python",
   "pygments_lexer": "ipython3",
   "version": "3.6.0"
  }
 },
 "nbformat": 4,
 "nbformat_minor": 0
}

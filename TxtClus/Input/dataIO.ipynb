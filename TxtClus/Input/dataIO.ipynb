{
 "cells": [
  {
   "cell_type": "code",
   "execution_count": 113,
   "metadata": {
    "collapsed": true
   },
   "outputs": [],
   "source": [
    "'''Sample 20 stories from UCI-News dataset; for each story, sample 10% of articles on that story.''' \n",
    "import numpy as np\n",
    "import pandas as pd\n",
    "from os import chdir"
   ]
  },
  {
   "cell_type": "code",
   "execution_count": 114,
   "metadata": {
    "collapsed": true
   },
   "outputs": [],
   "source": [
    "# Use pandas to input csv file into news_df:\n",
    "chdir('/home/jz/proj/News-Spam-Detect/TxtClus/Input')\n",
    "news_df = pd.read_csv('uci-news-aggregator.csv')"
   ]
  },
  {
   "cell_type": "code",
   "execution_count": 115,
   "metadata": {
    "collapsed": false
   },
   "outputs": [],
   "source": [
    "def _story_sampler(storyArr, NUM_STORIES = 20):\n",
    "    '''Sample 20 out of about 1000 stories, first.'''\n",
    "    return np.random.choice(storyArr.unique(), NUM_STORIES, replace=False)\n",
    "\n",
    "def _stagewise_sample(df, story_sampler, PCT = .1):\n",
    "    #Isolate articles belonging to those 20 selected stories:\n",
    "    articles = df[df.STORY.isin(story_sampler(df.STORY))] \n",
    "    return articles.sample(frac = PCT)    "
   ]
  },
  {
   "cell_type": "code",
   "execution_count": 116,
   "metadata": {
    "collapsed": false
   },
   "outputs": [],
   "source": [
    "if __name__ == \"__main__\":\n",
    "    news_sample = _stagewise_sample(news_df, _story_sampler)\n",
    "    news_sample.to_csv('newsSample.csv')"
   ]
  }
 ],
 "metadata": {
  "kernelspec": {
   "display_name": "Python 3",
   "language": "python",
   "name": "python3"
  },
  "language_info": {
   "codemirror_mode": {
    "name": "ipython",
    "version": 3
   },
   "file_extension": ".py",
   "mimetype": "text/x-python",
   "name": "python",
   "nbconvert_exporter": "python",
   "pygments_lexer": "ipython3",
   "version": "3.6.0"
  }
 },
 "nbformat": 4,
 "nbformat_minor": 2
}
